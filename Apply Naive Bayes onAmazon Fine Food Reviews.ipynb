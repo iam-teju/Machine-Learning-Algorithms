{
 "cells": [
  {
   "cell_type": "markdown",
   "metadata": {},
   "source": [
    "# Apply Naive-Bayes on Amazon fine food reviews \n",
    "\n",
    "\n",
    "Data Source: https://www.kaggle.com/snap/amazon-fine-food-reviews\n",
    "\n",
    "The Amazon Fine Food Reviews dataset consists of reviews of fine foods from Amazon.<br>\n",
    "\n",
    "Number of reviews: 568,454<br>\n",
    "Number of users: 256,059<br>\n",
    "Number of products: 74,258<br>\n",
    "Timespan: Oct 1999 - Oct 2012<br>\n",
    "Number of Attributes/Columns in data: 10 \n",
    "\n",
    "Attribute Information:\n",
    "\n",
    "1. Id\n",
    "2. ProductId - unique identifier for the product\n",
    "3. UserId - unqiue identifier for the user\n",
    "4. ProfileName\n",
    "5. HelpfulnessNumerator - number of users who found the review helpful\n",
    "6. HelpfulnessDenominator - number of users who indicated whether they found the review helpful or not\n",
    "7. Score - rating between 1 and 5\n",
    "8. Time - timestamp for the review\n",
    "9. Summary - brief summary of the review\n",
    "10. Text - text of the review\n",
    "\n",
    "\n",
    "#### Objective:\n",
    "Given the Amazon fine food review dataset, apply time based splitting of the reviews. Make 70% of them as Train dataset and remaining as Test dataset.\n",
    "Apply 10-fold cross validation on Train dataset to find alpha for naive-bayes, feature importance of positive and negative reviews, precision, accuracy, recall, F1 score, confusion matrix . Find Test accuracy of Test data and confusion matrix. Use BoW, TF-IDF, Avg-Word2Vec, TF-IDF-Word2Vec to vectorise the reviews.\n",
    "\n",
    "In the t-SNE assignmnet, we have already did the data cleanup like deduplication, stemming, stop-word removal and Lemmatization. So here we are not doing the same thing again. We simply use those stored cleaned text for further analysis.\n",
    "\n",
    "\n",
    "\n",
    "\n"
   ]
  },
  {
   "cell_type": "markdown",
   "metadata": {},
   "source": [
    "## Loading the data\n",
    "\n",
    "The dataset is available in two forms\n",
    "1. .csv file\n",
    "2. SQLite Database\n",
    "\n",
    "In order to load the data, We have used the SQLITE dataset as it easier to query the data and visualise the data efficiently.\n",
    "<br> \n"
   ]
  },
  {
   "cell_type": "code",
   "execution_count": 1,
   "metadata": {},
   "outputs": [],
   "source": [
    "%matplotlib inline\n",
    "\n",
    "import sqlite3\n",
    "import pandas as pd\n",
    "import numpy as np\n",
    "import nltk\n",
    "import string\n",
    "import matplotlib.pyplot as plt\n",
    "import seaborn as sns\n",
    "import csv\n",
    "from sklearn.feature_extraction.text import TfidfTransformer\n",
    "from sklearn.feature_extraction.text import TfidfVectorizer\n",
    "\n",
    "from sklearn.feature_extraction.text import CountVectorizer\n",
    "from sklearn.metrics import confusion_matrix\n",
    "from sklearn import metrics\n",
    "from sklearn.metrics import roc_curve, auc\n",
    "from nltk.stem.porter import PorterStemmer\n",
    "\n",
    "\n",
    "# using the SQLite Table to read filtered data \n",
    "#where ProfileName like 'em%'\n",
    "con = sqlite3.connect('final.sqlite') \n",
    "\n",
    "#getting the dataset into a dataframe \n",
    "final = pd.read_sql_query(\"\"\"\n",
    "SELECT * FROM Reviews order by Time\n",
    "\"\"\", con) \n",
    "final_train = pd.read_sql_query(\"\"\"\n",
    "SELECT * FROM Reviews order by Time \n",
    "limit cast(0.7*(select count(*) from Reviews) as integer) \n",
    "\"\"\" , con) \n",
    "final_test = pd.read_sql_query(\"\"\"\n",
    "SELECT * FROM Reviews order by Time desc\n",
    "limit cast(0.3*(select count(*) from Reviews) as integer) \n",
    "\"\"\" , con) "
   ]
  },
  {
   "cell_type": "code",
   "execution_count": 3,
   "metadata": {
    "scrolled": true
   },
   "outputs": [
    {
     "data": {
      "text/html": [
       "<div>\n",
       "<style scoped>\n",
       "    .dataframe tbody tr th:only-of-type {\n",
       "        vertical-align: middle;\n",
       "    }\n",
       "\n",
       "    .dataframe tbody tr th {\n",
       "        vertical-align: top;\n",
       "    }\n",
       "\n",
       "    .dataframe thead th {\n",
       "        text-align: right;\n",
       "    }\n",
       "</style>\n",
       "<table border=\"1\" class=\"dataframe\">\n",
       "  <thead>\n",
       "    <tr style=\"text-align: right;\">\n",
       "      <th></th>\n",
       "      <th>index</th>\n",
       "      <th>Id</th>\n",
       "      <th>ProductId</th>\n",
       "      <th>UserId</th>\n",
       "      <th>ProfileName</th>\n",
       "      <th>HelpfulnessNumerator</th>\n",
       "      <th>HelpfulnessDenominator</th>\n",
       "      <th>Score</th>\n",
       "      <th>Time</th>\n",
       "      <th>Summary</th>\n",
       "      <th>Text</th>\n",
       "      <th>positiveNegative</th>\n",
       "      <th>CleanedText</th>\n",
       "    </tr>\n",
       "  </thead>\n",
       "  <tbody>\n",
       "    <tr>\n",
       "      <th>0</th>\n",
       "      <td>138706</td>\n",
       "      <td>150524</td>\n",
       "      <td>0006641040</td>\n",
       "      <td>ACITT7DI6IDDL</td>\n",
       "      <td>shari zychinski</td>\n",
       "      <td>0</td>\n",
       "      <td>0</td>\n",
       "      <td>5</td>\n",
       "      <td>939340800</td>\n",
       "      <td>EVERY book is educational</td>\n",
       "      <td>this witty little book makes my son laugh at l...</td>\n",
       "      <td>positive</td>\n",
       "      <td>b'witti littl book make son laugh loud recit c...</td>\n",
       "    </tr>\n",
       "    <tr>\n",
       "      <th>1</th>\n",
       "      <td>138683</td>\n",
       "      <td>150501</td>\n",
       "      <td>0006641040</td>\n",
       "      <td>AJ46FKXOVC7NR</td>\n",
       "      <td>Nicholas A Mesiano</td>\n",
       "      <td>2</td>\n",
       "      <td>2</td>\n",
       "      <td>5</td>\n",
       "      <td>940809600</td>\n",
       "      <td>This whole series is great way to spend time w...</td>\n",
       "      <td>I can remember seeing the show when it aired o...</td>\n",
       "      <td>positive</td>\n",
       "      <td>b'rememb see show air televis year ago child s...</td>\n",
       "    </tr>\n",
       "    <tr>\n",
       "      <th>2</th>\n",
       "      <td>417839</td>\n",
       "      <td>451856</td>\n",
       "      <td>B00004CXX9</td>\n",
       "      <td>AIUWLEQ1ADEG5</td>\n",
       "      <td>Elizabeth Medina</td>\n",
       "      <td>0</td>\n",
       "      <td>0</td>\n",
       "      <td>5</td>\n",
       "      <td>944092800</td>\n",
       "      <td>Entertainingl Funny!</td>\n",
       "      <td>Beetlejuice is a well written movie ..... ever...</td>\n",
       "      <td>positive</td>\n",
       "      <td>b'beetlejuic well written movi everyth excel a...</td>\n",
       "    </tr>\n",
       "    <tr>\n",
       "      <th>3</th>\n",
       "      <td>346055</td>\n",
       "      <td>374359</td>\n",
       "      <td>B00004CI84</td>\n",
       "      <td>A344SMIA5JECGM</td>\n",
       "      <td>Vincent P. Ross</td>\n",
       "      <td>1</td>\n",
       "      <td>2</td>\n",
       "      <td>5</td>\n",
       "      <td>944438400</td>\n",
       "      <td>A modern day fairy tale</td>\n",
       "      <td>A twist of rumplestiskin captured on film, sta...</td>\n",
       "      <td>positive</td>\n",
       "      <td>b'twist rumplestiskin captur film star michael...</td>\n",
       "    </tr>\n",
       "    <tr>\n",
       "      <th>4</th>\n",
       "      <td>417838</td>\n",
       "      <td>451855</td>\n",
       "      <td>B00004CXX9</td>\n",
       "      <td>AJH6LUC1UT1ON</td>\n",
       "      <td>The Phantom of the Opera</td>\n",
       "      <td>0</td>\n",
       "      <td>0</td>\n",
       "      <td>5</td>\n",
       "      <td>946857600</td>\n",
       "      <td>FANTASTIC!</td>\n",
       "      <td>Beetlejuice is an excellent and funny movie. K...</td>\n",
       "      <td>positive</td>\n",
       "      <td>b'beetlejuic excel funni movi keaton hilari wa...</td>\n",
       "    </tr>\n",
       "  </tbody>\n",
       "</table>\n",
       "</div>"
      ],
      "text/plain": [
       "    index      Id   ProductId          UserId               ProfileName  \\\n",
       "0  138706  150524  0006641040   ACITT7DI6IDDL           shari zychinski   \n",
       "1  138683  150501  0006641040   AJ46FKXOVC7NR        Nicholas A Mesiano   \n",
       "2  417839  451856  B00004CXX9   AIUWLEQ1ADEG5          Elizabeth Medina   \n",
       "3  346055  374359  B00004CI84  A344SMIA5JECGM           Vincent P. Ross   \n",
       "4  417838  451855  B00004CXX9   AJH6LUC1UT1ON  The Phantom of the Opera   \n",
       "\n",
       "   HelpfulnessNumerator  HelpfulnessDenominator  Score       Time  \\\n",
       "0                     0                       0      5  939340800   \n",
       "1                     2                       2      5  940809600   \n",
       "2                     0                       0      5  944092800   \n",
       "3                     1                       2      5  944438400   \n",
       "4                     0                       0      5  946857600   \n",
       "\n",
       "                                             Summary  \\\n",
       "0                          EVERY book is educational   \n",
       "1  This whole series is great way to spend time w...   \n",
       "2                               Entertainingl Funny!   \n",
       "3                            A modern day fairy tale   \n",
       "4                                         FANTASTIC!   \n",
       "\n",
       "                                                Text positiveNegative  \\\n",
       "0  this witty little book makes my son laugh at l...         positive   \n",
       "1  I can remember seeing the show when it aired o...         positive   \n",
       "2  Beetlejuice is a well written movie ..... ever...         positive   \n",
       "3  A twist of rumplestiskin captured on film, sta...         positive   \n",
       "4  Beetlejuice is an excellent and funny movie. K...         positive   \n",
       "\n",
       "                                         CleanedText  \n",
       "0  b'witti littl book make son laugh loud recit c...  \n",
       "1  b'rememb see show air televis year ago child s...  \n",
       "2  b'beetlejuic well written movi everyth excel a...  \n",
       "3  b'twist rumplestiskin captur film star michael...  \n",
       "4  b'beetlejuic excel funni movi keaton hilari wa...  "
      ]
     },
     "execution_count": 3,
     "metadata": {},
     "output_type": "execute_result"
    }
   ],
   "source": [
    "final.head()"
   ]
  },
  {
   "cell_type": "code",
   "execution_count": 4,
   "metadata": {},
   "outputs": [
    {
     "name": "stdout",
     "output_type": "stream",
     "text": [
      "(364171, 13)\n",
      "(254919, 13)\n",
      "(109251, 13)\n"
     ]
    }
   ],
   "source": [
    "print(final.shape)\n",
    "print(final_train.shape)\n",
    "print(final_test.shape)"
   ]
  },
  {
   "cell_type": "markdown",
   "metadata": {},
   "source": [
    "# Bag of Words (BoW)"
   ]
  },
  {
   "cell_type": "code",
   "execution_count": 5,
   "metadata": {},
   "outputs": [],
   "source": [
    "count_vect = CountVectorizer() #in scikit-learn\n",
    "final_train_X = count_vect.fit_transform(final_train['CleanedText'].values)\n",
    "final_train_Y = final_train['positiveNegative'].values\n",
    "final_test_X =  count_vect.transform(final_test['CleanedText'].values)\n",
    "final_test_Y = final_test['positiveNegative'].values"
   ]
  },
  {
   "cell_type": "code",
   "execution_count": 6,
   "metadata": {},
   "outputs": [
    {
     "name": "stderr",
     "output_type": "stream",
     "text": [
      "C:\\Users\\Swapnanil\\Anaconda3\\lib\\site-packages\\sklearn\\cross_validation.py:41: DeprecationWarning: This module was deprecated in version 0.18 in favor of the model_selection module into which all the refactored classes and functions are moved. Also note that the interface of the new CV iterators are different from that of this module. This module will be removed in 0.20.\n",
      "  \"This module will be removed in 0.20.\", DeprecationWarning)\n"
     ]
    },
    {
     "name": "stdout",
     "output_type": "stream",
     "text": [
      "\n",
      "The optimal value of alpha is 1.00000000.\n"
     ]
    },
    {
     "data": {
      "image/png": "[encoded data removed]",
      "text/plain": [
       "<matplotlib.figure.Figure at 0x1d953567358>"
      ]
     },
     "metadata": {},
     "output_type": "display_data"
    },
    {
     "name": "stdout",
     "output_type": "stream",
     "text": [
      "the misclassification error for each k value is :  [0.114 0.114 0.113 0.113 0.111 0.109 0.107 0.104 0.097 0.108 0.121 0.131\n",
      " 0.137 0.142 0.144 0.146 0.148 0.148 0.15  0.15  0.15  0.15  0.15  0.15 ]\n"
     ]
    }
   ],
   "source": [
    "from sklearn import cross_validation\n",
    "from sklearn.naive_bayes import BernoulliNB,MultinomialNB\n",
    "from sklearn.cross_validation import cross_val_score\n",
    "X_train, X_test, Y_train, Y_test = cross_validation.train_test_split(final_train_X, final_train_Y, \n",
    "                                                                     test_size=0.3, random_state=42)\n",
    "#clf = BernoulliNB(binarize=1)\n",
    "#clf.fit(X_train, Y_train)\n",
    "#print(clf.predict(X_test[2:3]))\n",
    "\n",
    "# creating list of alpha for NB\n",
    "myList = list(range(1,50))\n",
    "neighbors = list(filter(lambda x: x % 1 == 0, myList))\n",
    "neighbors = [0.00000001,0.0000001, 0.000001,0.00001,0.0001,0.001,0.01,0.1,1,2,3,4,5,6,7,8,9,10,15,20,25,30,40,50]\n",
    "\n",
    "# empty list that will hold cv scores\n",
    "cv_scores = []\n",
    "\n",
    "# perform 10-fold cross validation\n",
    "for k in neighbors:\n",
    "    nb = MultinomialNB(alpha=k)\n",
    "    nb.fit(X_train, Y_train)\n",
    "    #print(nb.predict(X_test[2:39]))\n",
    "    scores = cross_val_score(nb, X_test, Y_test, cv=10, scoring='accuracy')\n",
    "    cv_scores.append(scores.mean())\n",
    "    #print((nb))\n",
    "\n",
    "# changing to misclassification error\n",
    "MSE = [1 - x for x in cv_scores]\n",
    "\n",
    "# determining best k\n",
    "optimal_alpha = neighbors[MSE.index(min(MSE))]\n",
    "print('\\nThe optimal value of alpha is %.8f.' % optimal_alpha)\n",
    "\n",
    "\n",
    "# plot misclassification error vs k \n",
    "plt.plot(neighbors, MSE)\n",
    "\n",
    "for xy in zip(neighbors, np.round(MSE,3)):\n",
    "    plt.annotate('(%s, %s)' % xy, xy=xy, textcoords='data')\n",
    "\n",
    "plt.xlabel('Value of alpha')\n",
    "plt.ylabel('Misclassification Error')\n",
    "plt.show()\n",
    "\n",
    "print(\"the misclassification error for each k value is : \", np.round(MSE,3))"
   ]
  },
  {
   "cell_type": "code",
   "execution_count": 7,
   "metadata": {
    "scrolled": true
   },
   "outputs": [
    {
     "name": "stdout",
     "output_type": "stream",
     "text": [
      "Postive top 10 important features are:\n",
      "('like', -4.444011085613443)\n",
      "('tast', -4.51426792968355)\n",
      "('good', -4.649293762950087)\n",
      "('flavor', -4.670882981304331)\n",
      "('love', -4.699096964570424)\n",
      "('great', -4.719491079019004)\n",
      "('use', -4.741244269360369)\n",
      "('one', -4.797570713871195)\n",
      "('product', -4.883810709990517)\n",
      "('tea', -4.891354136409893)\n",
      "\n",
      "\n",
      "Negative top 10 important features are:\n",
      "('tast', -4.239537630748643)\n",
      "('like', -4.320779248452499)\n",
      "('product', -4.488506458708635)\n",
      "('one', -4.763496894718443)\n",
      "('flavor', -4.805309933663004)\n",
      "('tri', -4.914608058527804)\n",
      "('would', -4.9151140033906096)\n",
      "('good', -5.071558697973897)\n",
      "('coffe', -5.097334350731513)\n",
      "('use', -5.1043419455480965)\n"
     ]
    }
   ],
   "source": [
    "#Finding top 10 important features\n",
    "import operator\n",
    "from nltk.probability import FreqDist, DictionaryProbDist, ELEProbDist, sum_logs\n",
    "from nltk.classify.api import ClassifierI\n",
    "from nltk.classify.naivebayes import NaiveBayesClassifier\n",
    "nb = MultinomialNB(alpha=optimal_alpha).fit(final_train_X, final_train_Y)\n",
    "pos_imp_features = nb.feature_log_prob_[1,:]\n",
    "neg_imp_features = nb.feature_log_prob_[0,:]\n",
    "\n",
    "\n",
    "imp_features = {}\n",
    "feature_names= count_vect.get_feature_names()\n",
    "for i in range(len(feature_names)):\n",
    "    imp_features[feature_names[i]] = pos_imp_features[i]\n",
    "names_diff_sorted = sorted(imp_features.items(), key = operator.itemgetter(1), reverse = True)\n",
    "print(\"Postive top 10 important features are:\")\n",
    "for i in range(10):\n",
    "    print(names_diff_sorted[i])\n",
    "    \n",
    "for i in range(len(feature_names)):\n",
    "    imp_features[feature_names[i]] = neg_imp_features[i]\n",
    "names_diff_sorted = sorted(imp_features.items(), key = operator.itemgetter(1), reverse = True)\n",
    "print(\"\\n\\nNegative top 10 important features are:\")\n",
    "for i in range(10):\n",
    "    print(names_diff_sorted[i])\n"
   ]
  },
  {
   "cell_type": "code",
   "execution_count": 8,
   "metadata": {},
   "outputs": [],
   "source": [
    "def plot_confusion_matrix(test_y, predict_y):\n",
    "    C = confusion_matrix(test_y, predict_y)\n",
    "    # C = 9,9 matrix, each cell (i,j) represents number of points of class i are predicted class j\n",
    "    \n",
    "    A =(((C.T)/(C.sum(axis=1))).T)\n",
    "    #divid each element of the confusion matrix with the sum of elements in that column\n",
    "    \n",
    "    # C = [[1, 2],\n",
    "    #     [3, 4]]\n",
    "    # C.T = [[1, 3],\n",
    "    #        [2, 4]]\n",
    "    # C.sum(axis = 1)  axis=0 corresonds to columns and axis=1 corresponds to rows in two diamensional array\n",
    "    # C.sum(axix =1) = [[3, 7]]\n",
    "    # ((C.T)/(C.sum(axis=1))) = [[1/3, 3/7]\n",
    "    #                           [2/3, 4/7]]\n",
    "\n",
    "    # ((C.T)/(C.sum(axis=1))).T = [[1/3, 2/3]\n",
    "    #                           [3/7, 4/7]]\n",
    "    # sum of row elements = 1\n",
    "    \n",
    "    B =(C/C.sum(axis=0))\n",
    "    #divid each element of the confusion matrix with the sum of elements in that row\n",
    "    # C = [[1, 2],\n",
    "    #     [3, 4]]\n",
    "    # C.sum(axis = 0)  axis=0 corresonds to columns and axis=1 corresponds to rows in two diamensional array\n",
    "    # C.sum(axix =0) = [[4, 6]]\n",
    "    # (C/C.sum(axis=0)) = [[1/4, 2/6],\n",
    "    #                      [3/4, 4/6]] \n",
    "    plt.figure(figsize=(20,4))\n",
    "    \n",
    "    labels = [1,2]\n",
    "    # representing A in heatmap format\n",
    "    cmap=sns.light_palette(\"blue\")\n",
    "    plt.subplot(1, 3, 1)\n",
    "    sns.heatmap(C, annot=True, cmap=cmap, fmt=\".3f\", xticklabels=labels, yticklabels=labels)\n",
    "    plt.xlabel('Predicted Class')\n",
    "    plt.ylabel('Original Class')\n",
    "    plt.title(\"Confusion matrix\")\n",
    "    \n",
    "    plt.subplot(1, 3, 2)\n",
    "    sns.heatmap(B, annot=True, cmap=cmap, fmt=\".3f\", xticklabels=labels, yticklabels=labels)\n",
    "    plt.xlabel('Predicted Class')\n",
    "    plt.ylabel('Original Class')\n",
    "    plt.title(\"Precision matrix\")\n",
    "    \n",
    "    plt.subplot(1, 3, 3)\n",
    "    # representing B in heatmap format\n",
    "    sns.heatmap(A, annot=True, cmap=cmap, fmt=\".3f\", xticklabels=labels, yticklabels=labels)\n",
    "    plt.xlabel('Predicted Class')\n",
    "    plt.ylabel('Original Class')\n",
    "    plt.title(\"Recall matrix\")\n",
    "    \n",
    "    plt.show()"
   ]
  },
  {
   "cell_type": "code",
   "execution_count": 9,
   "metadata": {
    "scrolled": true
   },
   "outputs": [
    {
     "name": "stdout",
     "output_type": "stream",
     "text": [
      "Accuracy of the model at optimal hyperparameter alpha = 1 is:  89.557990%\n",
      "Confusion matrix for the model is:\n"
     ]
    },
    {
     "data": {
      "image/png": "[encoded data removed]",
      "text/plain": [
       "<matplotlib.figure.Figure at 0x1d9538bbda0>"
      ]
     },
     "metadata": {},
     "output_type": "display_data"
    },
    {
     "name": "stdout",
     "output_type": "stream",
     "text": [
      "Recall value for the positive class of the model is: 0.9400159691263558\n",
      "Precision value for the positive class of the model is: 0.9339055131990657\n",
      "F1 score for the positive class of the model is: 0.9369507787197824\n"
     ]
    }
   ],
   "source": [
    "#Finding accuracy, Confusion matrix, precision, recall, F1 score\n",
    "from sklearn.metrics import accuracy_score, precision_recall_fscore_support, f1_score\n",
    "nb = MultinomialNB(alpha=optimal_alpha).fit(final_train_X, final_train_Y)\n",
    "Y_pred = nb.predict(final_test_X)\n",
    "Y_test_accuracy = accuracy_score(final_test_Y, Y_pred, normalize=True, sample_weight=None)*100\n",
    "print('Accuracy of the model at optimal hyperparameter alpha = %d is:  %f%%' % (optimal_alpha,Y_test_accuracy))\n",
    "print('Confusion matrix for the model is:')\n",
    "plot_confusion_matrix(final_test_Y, Y_pred)\n",
    "\n",
    "rec_pre_f1 = precision_recall_fscore_support(final_test_Y, Y_pred)\n",
    "#print(rec_pre_f1)\n",
    "print('Recall value for the positive class of the model is: %s'% rec_pre_f1[1][1])\n",
    "print('Precision value for the positive class of the model is: %s'% rec_pre_f1[0][1])\n",
    "print('F1 score for the positive class of the model is: %s'% rec_pre_f1[2][1])\n"
   ]
  },
  {
   "cell_type": "markdown",
   "metadata": {},
   "source": [
    "Observation: We found that K=1 is the optimal value. And accuracy on the test dataset is 89.557990%"
   ]
  },
  {
   "cell_type": "code",
   "execution_count": 10,
   "metadata": {},
   "outputs": [
    {
     "name": "stdout",
     "output_type": "stream",
     "text": [
      "(254919, 59194)\n",
      "(109251, 59194)\n"
     ]
    }
   ],
   "source": [
    "print(final_train_X.shape)\n",
    "print(final_test_X.shape)"
   ]
  },
  {
   "cell_type": "markdown",
   "metadata": {},
   "source": [
    "# TF-IDF"
   ]
  },
  {
   "cell_type": "code",
   "execution_count": 11,
   "metadata": {},
   "outputs": [
    {
     "name": "stdout",
     "output_type": "stream",
     "text": [
      "(254919, 2307509)\n",
      "(254919,)\n",
      "(109251, 2307509)\n",
      "(109251,)\n"
     ]
    }
   ],
   "source": [
    "tf_idf_vect = TfidfVectorizer(ngram_range=(1,2))\n",
    "final_tf_idf_train_X = tf_idf_vect.fit_transform(final_train['CleanedText'].values)\n",
    "final_tf_idf_train_Y = final_train['positiveNegative'].values\n",
    "final_tf_idf_test_X = tf_idf_vect.transform(final_test['CleanedText'].values)\n",
    "final_tf_idf_test_Y = final_test['positiveNegative'].values\n",
    "print(final_tf_idf_train_X.get_shape())\n",
    "print(final_tf_idf_train_Y.shape)\n",
    "print(final_tf_idf_test_X.get_shape())\n",
    "print(final_tf_idf_test_Y.shape)"
   ]
  },
  {
   "cell_type": "code",
   "execution_count": 12,
   "metadata": {},
   "outputs": [
    {
     "name": "stdout",
     "output_type": "stream",
     "text": [
      "            feature     tfidf\n",
      "0         book song  0.177012\n",
      "1      child sister  0.177012\n",
      "2    school purchas  0.177012\n",
      "3    preschool turn  0.177012\n",
      "4   teach preschool  0.177012\n",
      "5      whole school  0.177012\n",
      "6      song student  0.177012\n",
      "7       air televis  0.177012\n",
      "8      sister later  0.177012\n",
      "9              book  0.174366\n",
      "10  children tradit  0.171386\n",
      "11         use seri  0.171386\n",
      "12         show air  0.171386\n",
      "13     televis year  0.171386\n",
      "14    thirti someth  0.171386\n",
      "15    student teach  0.171386\n",
      "16        ago child  0.167393\n",
      "17    book children  0.167393\n",
      "18      tradit live  0.167393\n",
      "19       day thirti  0.167393\n",
      "20        seri book  0.161767\n",
      "21       along book  0.161767\n",
      "22         see show  0.154678\n",
      "23       turn whole  0.151037\n",
      "24     later bought  0.148155\n"
     ]
    }
   ],
   "source": [
    "features = tf_idf_vect.get_feature_names()\n",
    "# source: https://buhrmann.github.io/tfidf-analysis.html\n",
    "def top_tfidf_feats(row, features, top_n=25):\n",
    "    ''' Get top n tfidf values in row and return them with their corresponding feature names.'''\n",
    "    topn_ids = np.argsort(row)[::-1][:top_n]\n",
    "    top_feats = [(features[i], row[i]) for i in topn_ids]\n",
    "    df = pd.DataFrame(top_feats)\n",
    "    df.columns = ['feature', 'tfidf']\n",
    "    return df\n",
    "\n",
    "top_tfidf = top_tfidf_feats(final_tf_idf_train_X[1,:].toarray()[0],features,25)\n",
    "print(top_tfidf)"
   ]
  },
  {
   "cell_type": "code",
   "execution_count": 13,
   "metadata": {},
   "outputs": [
    {
     "name": "stdout",
     "output_type": "stream",
     "text": [
      "\n",
      "The optimal value of alpha is 0.00100000.\n"
     ]
    },
    {
     "data": {
      "image/png": "[encoded data removed]",
      "text/plain": [
       "<matplotlib.figure.Figure at 0x1d924625438>"
      ]
     },
     "metadata": {},
     "output_type": "display_data"
    },
    {
     "name": "stdout",
     "output_type": "stream",
     "text": [
      "the misclassification error for each k value is :  [0.132 0.13  0.126 0.122 0.116 0.113 0.113 0.144 0.15  0.15  0.15  0.15\n",
      " 0.15  0.15  0.15  0.15  0.15  0.15  0.15  0.15  0.15  0.15  0.15  0.15 ]\n"
     ]
    }
   ],
   "source": [
    "from sklearn import cross_validation\n",
    "from sklearn.naive_bayes import BernoulliNB,MultinomialNB\n",
    "from sklearn.cross_validation import cross_val_score\n",
    "X_train, X_test, Y_train, Y_test = cross_validation.train_test_split(final_tf_idf_train_X, final_tf_idf_train_Y, \n",
    "                                                                     test_size=0.3, random_state=42)\n",
    "#clf = BernoulliNB(binarize=1)\n",
    "#clf.fit(X_train, Y_train)\n",
    "#print(clf.predict(X_test[2:3]))\n",
    "\n",
    "# creating list of alpha for NB\n",
    "myList = list(range(1,50))\n",
    "neighbors = list(filter(lambda x: x % 1 == 0, myList))\n",
    "neighbors = [0.00000001,0.0000001, 0.000001,0.00001,0.0001,0.001,0.01,0.1,1,2,3,4,5,6,7,8,9,10,15,20,25,30,40,50]\n",
    "\n",
    "# empty list that will hold cv scores\n",
    "cv_scores = []\n",
    "\n",
    "# perform 10-fold cross validation\n",
    "for k in neighbors:\n",
    "    nb = MultinomialNB(alpha=k)\n",
    "    nb.fit(X_train, Y_train)\n",
    "    #print(nb.predict(X_test[2:39]))\n",
    "    scores = cross_val_score(nb, X_test, Y_test, cv=10, scoring='accuracy')\n",
    "    cv_scores.append(scores.mean())\n",
    "    #print((nb))\n",
    "\n",
    "# changing to misclassification error\n",
    "MSE = [1 - x for x in cv_scores]\n",
    "\n",
    "# determining best k\n",
    "optimal_alpha = neighbors[MSE.index(min(MSE))]\n",
    "print('\\nThe optimal value of alpha is %.8f.' % optimal_alpha)\n",
    "\n",
    "\n",
    "# plot misclassification error vs k \n",
    "plt.plot(neighbors, MSE)\n",
    "\n",
    "for xy in zip(neighbors, np.round(MSE,3)):\n",
    "    plt.annotate('(%s, %s)' % xy, xy=xy, textcoords='data')\n",
    "\n",
    "plt.xlabel('Value of alpha')\n",
    "plt.ylabel('Misclassification Error')\n",
    "plt.show()\n",
    "\n",
    "print(\"the misclassification error for each k value is : \", np.round(MSE,3))"
   ]
  },
  {
   "cell_type": "code",
   "execution_count": 14,
   "metadata": {},
   "outputs": [
    {
     "name": "stdout",
     "output_type": "stream",
     "text": [
      "Postive top 10 important features are:\n",
      "('great', -6.214908305108226)\n",
      "('love', -6.223800110468767)\n",
      "('tast', -6.271516958483198)\n",
      "('tea', -6.276004958192765)\n",
      "('like', -6.280537022492241)\n",
      "('good', -6.282728795103455)\n",
      "('flavor', -6.342825825864094)\n",
      "('coffe', -6.366835358668578)\n",
      "('use', -6.447703493948013)\n",
      "('product', -6.457243596923904)\n",
      "\n",
      "\n",
      "Negative top 10 important features are:\n",
      "('tast', -5.972647197482666)\n",
      "('like', -6.115270308297991)\n",
      "('product', -6.159475254340928)\n",
      "('would', -6.459222687058151)\n",
      "('flavor', -6.476005432312708)\n",
      "('coffe', -6.479861593208945)\n",
      "('one', -6.499791469080046)\n",
      "('tri', -6.604188933571626)\n",
      "('buy', -6.629491714450055)\n",
      "('order', -6.6337315762164994)\n"
     ]
    }
   ],
   "source": [
    "#Finding top 10 important features\n",
    "import operator\n",
    "from nltk.probability import FreqDist, DictionaryProbDist, ELEProbDist, sum_logs\n",
    "from nltk.classify.api import ClassifierI\n",
    "from nltk.classify.naivebayes import NaiveBayesClassifier\n",
    "nb = MultinomialNB(alpha=optimal_alpha).fit(final_tf_idf_train_X, final_tf_idf_train_Y)\n",
    "pos_imp_features = nb.feature_log_prob_[1,:]\n",
    "neg_imp_features = nb.feature_log_prob_[0,:]\n",
    "\n",
    "\n",
    "imp_features = {}\n",
    "feature_names= tf_idf_vect.get_feature_names()\n",
    "for i in range(len(feature_names)):\n",
    "    imp_features[feature_names[i]] = pos_imp_features[i]\n",
    "names_diff_sorted = sorted(imp_features.items(), key = operator.itemgetter(1), reverse = True)\n",
    "print(\"Postive top 10 important features are:\")\n",
    "for i in range(10):\n",
    "    print(names_diff_sorted[i])\n",
    "    \n",
    "for i in range(len(feature_names)):\n",
    "    imp_features[feature_names[i]] = neg_imp_features[i]\n",
    "names_diff_sorted = sorted(imp_features.items(), key = operator.itemgetter(1), reverse = True)\n",
    "print(\"\\n\\nNegative top 10 important features are:\")\n",
    "for i in range(10):\n",
    "    print(names_diff_sorted[i])\n",
    "    \n",
    "\n"
   ]
  },
  {
   "cell_type": "code",
   "execution_count": 19,
   "metadata": {},
   "outputs": [
    {
     "name": "stdout",
     "output_type": "stream",
     "text": [
      "Accuracy of the model at optimal hyperparameter alpha = 0.001000 is:  87.705376%\n",
      "Confusion matrix for the model is:\n"
     ]
    },
    {
     "data": {
      "image/png": "[encoded data removed]",
      "text/plain": [
       "<matplotlib.figure.Figure at 0x1d96e187ba8>"
      ]
     },
     "metadata": {},
     "output_type": "display_data"
    },
    {
     "name": "stdout",
     "output_type": "stream",
     "text": [
      "Recall value for the positive class of the model is: 0.9905516002395369\n",
      "Precision value for the positive class of the model is: 0.8765480559753489\n",
      "F1 score for the positive class of the model is: 0.9300693475499282\n"
     ]
    }
   ],
   "source": [
    "#Finding accuracy, Confusion matrix, precision, recall, F1 score\n",
    "from sklearn.metrics import accuracy_score, precision_recall_fscore_support, f1_score\n",
    "nb = MultinomialNB(alpha=optimal_alpha).fit(final_tf_idf_train_X, final_tf_idf_train_Y)\n",
    "Y_pred = nb.predict(final_tf_idf_test_X)\n",
    "Y_test_accuracy = accuracy_score(final_tf_idf_test_Y, Y_pred, normalize=True, sample_weight=None)*100\n",
    "print('Accuracy of the model at optimal hyperparameter alpha = %f is:  %f%%' % (optimal_alpha,Y_test_accuracy))\n",
    "print('Confusion matrix for the model is:')\n",
    "plot_confusion_matrix(final_tf_idf_test_Y, Y_pred)\n",
    "\n",
    "rec_pre_f1 = precision_recall_fscore_support(final_tf_idf_test_Y, Y_pred)\n",
    "#print(rec_pre_f1)\n",
    "print('Recall value for the positive class of the model is: %s'% rec_pre_f1[1][1])\n",
    "print('Precision value for the positive class of the model is: %s'% rec_pre_f1[0][1])\n",
    "print('F1 score for the positive class of the model is: %s'% rec_pre_f1[2][1])\n"
   ]
  },
  {
   "cell_type": "markdown",
   "metadata": {},
   "source": [
    "Observation: We found that alpha=0.001 is the optimal value. And accuracy on the test dataset is 87.705376%."
   ]
  },
  {
   "cell_type": "code",
   "execution_count": null,
   "metadata": {},
   "outputs": [],
   "source": []
  }
 ],
 "metadata": {
  "kernelspec": {
   "display_name": "Python 3",
   "language": "python",
   "name": "python3"
  },
  "language_info": {
   "codemirror_mode": {
    "name": "ipython",
    "version": 3
   },
   "file_extension": ".py",
   "mimetype": "text/x-python",
   "name": "python",
   "nbconvert_exporter": "python",
   "pygments_lexer": "ipython3",
   "version": "3.6.4"
  }
 },
 "nbformat": 4,
 "nbformat_minor": 2
}
