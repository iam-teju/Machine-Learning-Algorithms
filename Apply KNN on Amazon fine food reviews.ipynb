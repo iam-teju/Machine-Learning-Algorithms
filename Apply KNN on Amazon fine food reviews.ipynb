{
 "cells": [
  {
   "cell_type": "markdown",
   "metadata": {},
   "source": [
    "# Apply KNN on Amazon fine food reviews\n",
    "\n",
    "\n",
    "Data Source: https://www.kaggle.com/snap/amazon-fine-food-reviews\n",
    "\n",
    "The Amazon Fine Food Reviews dataset consists of reviews of fine foods from Amazon.<br>\n",
    "\n",
    "Number of reviews: 568,454<br>\n",
    "Number of users: 256,059<br>\n",
    "Number of products: 74,258<br>\n",
    "Timespan: Oct 1999 - Oct 2012<br>\n",
    "Number of Attributes/Columns in data: 10 \n",
    "\n",
    "Attribute Information:\n",
    "\n",
    "1. Id\n",
    "2. ProductId - unique identifier for the product\n",
    "3. UserId - unqiue identifier for the user\n",
    "4. ProfileName\n",
    "5. HelpfulnessNumerator - number of users who found the review helpful\n",
    "6. HelpfulnessDenominator - number of users who indicated whether they found the review helpful or not\n",
    "7. Score - rating between 1 and 5\n",
    "8. Time - timestamp for the review\n",
    "9. Summary - brief summary of the review\n",
    "10. Text - text of the review\n",
    "\n",
    "\n",
    "#### Objective:\n",
    "Given the Amazon fine food review dataset, apply time based splitting of the reviews. Make 70% of them as Train dataset and remaining as Test dataset.\n",
    "Apply 10-fold cross validation on Train dataset to find K for K-NN. Find Test accuracy of Test data and confusion matrix. Use BoW, TF-IDF, Avg-Word2Vec, TF-IDF-Word2Vec to vectorise the reviews.\n",
    "\n",
    "In the t-SNE assignmnet, we have already did the data cleanup like deduplication, stemming, stop-word removal and Lemmatization. So here we are not doing the same thing again. We simply use those stored cleaned text for further analysis.\n",
    "\n",
    "\n",
    "\n",
    "\n"
   ]
  },
  {
   "cell_type": "markdown",
   "metadata": {},
   "source": [
    "## Loading the data\n",
    "\n",
    "The dataset is available in two forms\n",
    "1. .csv file\n",
    "2. SQLite Database\n",
    "\n",
    "In order to load the data, We have used the SQLITE dataset as it easier to query the data and visualise the data efficiently.\n",
    "<br> \n"
   ]
  },
  {
   "cell_type": "code",
   "execution_count": 101,
   "metadata": {},
   "outputs": [],
   "source": [
    "%matplotlib inline\n",
    "\n",
    "import sqlite3\n",
    "import pandas as pd\n",
    "import numpy as np\n",
    "import nltk\n",
    "import string\n",
    "import matplotlib.pyplot as plt\n",
    "import seaborn as sns\n",
    "import csv\n",
    "from sklearn.feature_extraction.text import TfidfTransformer\n",
    "from sklearn.feature_extraction.text import TfidfVectorizer\n",
    "\n",
    "from sklearn.feature_extraction.text import CountVectorizer\n",
    "from sklearn.metrics import confusion_matrix\n",
    "from sklearn import metrics\n",
    "from sklearn.metrics import roc_curve, auc\n",
    "from nltk.stem.porter import PorterStemmer\n",
    "\n",
    "\n",
    "# using the SQLite Table to read filtered data\n",
    "con = sqlite3.connect('amazon-fine-food-reviews/final.sqlite') \n",
    "\n",
    "#getting the dataset into a dataframe \n",
    "final = pd.read_sql_query(\"\"\"\n",
    "SELECT * FROM Reviews where ProfileName like \"e%\" order by Time\n",
    "\"\"\", con) \n",
    "\n",
    "final_train = pd.read_sql_query(\"\"\"\n",
    "SELECT * FROM Reviews where ProfileName like \"e%\" order by Time \n",
    "limit cast(0.7*(select count(*) from Reviews where ProfileName like \"e%\") as integer) \n",
    "\"\"\" , con) \n",
    "\n",
    "\n",
    "final_test = pd.read_sql_query(\"\"\"\n",
    "SELECT * FROM Reviews where ProfileName like \"e%\" order by Time desc\n",
    "limit cast(0.3*(select count(*) from Reviews where ProfileName like \"e%\") as integer) \n",
    "\"\"\" , con) "
   ]
  },
  {
   "cell_type": "code",
   "execution_count": 102,
   "metadata": {},
   "outputs": [
    {
     "data": {
      "text/html": [
       "<div>\n",
       "<style scoped>\n",
       "    .dataframe tbody tr th:only-of-type {\n",
       "        vertical-align: middle;\n",
       "    }\n",
       "\n",
       "    .dataframe tbody tr th {\n",
       "        vertical-align: top;\n",
       "    }\n",
       "\n",
       "    .dataframe thead th {\n",
       "        text-align: right;\n",
       "    }\n",
       "</style>\n",
       "<table border=\"1\" class=\"dataframe\">\n",
       "  <thead>\n",
       "    <tr style=\"text-align: right;\">\n",
       "      <th></th>\n",
       "      <th>index</th>\n",
       "      <th>Id</th>\n",
       "      <th>ProductId</th>\n",
       "      <th>UserId</th>\n",
       "      <th>ProfileName</th>\n",
       "      <th>HelpfulnessNumerator</th>\n",
       "      <th>HelpfulnessDenominator</th>\n",
       "      <th>Score</th>\n",
       "      <th>Time</th>\n",
       "      <th>Summary</th>\n",
       "      <th>Text</th>\n",
       "      <th>CleanedText</th>\n",
       "    </tr>\n",
       "  </thead>\n",
       "  <tbody>\n",
       "    <tr>\n",
       "      <th>0</th>\n",
       "      <td>417839</td>\n",
       "      <td>451856</td>\n",
       "      <td>B00004CXX9</td>\n",
       "      <td>AIUWLEQ1ADEG5</td>\n",
       "      <td>Elizabeth Medina</td>\n",
       "      <td>0</td>\n",
       "      <td>0</td>\n",
       "      <td>1</td>\n",
       "      <td>944092800</td>\n",
       "      <td>Entertainingl Funny!</td>\n",
       "      <td>Beetlejuice is a well written movie ..... ever...</td>\n",
       "      <td>beetlejuic well written movi everyth excel act...</td>\n",
       "    </tr>\n",
       "    <tr>\n",
       "      <th>1</th>\n",
       "      <td>138000</td>\n",
       "      <td>149768</td>\n",
       "      <td>B00004S1C5</td>\n",
       "      <td>A7P76IGRZZBFJ</td>\n",
       "      <td>E. Thompson \"Soooooper Genius\"</td>\n",
       "      <td>18</td>\n",
       "      <td>18</td>\n",
       "      <td>1</td>\n",
       "      <td>975974400</td>\n",
       "      <td>Who Needs Wilton?</td>\n",
       "      <td>I'm sick of scads of nasty toothpicks all over...</td>\n",
       "      <td>sick scad nasti toothpick counter tint concept...</td>\n",
       "    </tr>\n",
       "    <tr>\n",
       "      <th>2</th>\n",
       "      <td>412716</td>\n",
       "      <td>446351</td>\n",
       "      <td>B0000YVCI0</td>\n",
       "      <td>A7V64BJ4FANV2</td>\n",
       "      <td>Emma R. Brashars</td>\n",
       "      <td>0</td>\n",
       "      <td>0</td>\n",
       "      <td>1</td>\n",
       "      <td>1077494400</td>\n",
       "      <td>You HAVE to try these</td>\n",
       "      <td>If you haven't tried these you need to now!&lt;p&gt;...</td>\n",
       "      <td>havent tri need incred order least twice amoun...</td>\n",
       "    </tr>\n",
       "    <tr>\n",
       "      <th>3</th>\n",
       "      <td>150402</td>\n",
       "      <td>163149</td>\n",
       "      <td>B00015UC8E</td>\n",
       "      <td>A20UAWANPNGCLY</td>\n",
       "      <td>E. Funk \"dfunke1\"</td>\n",
       "      <td>5</td>\n",
       "      <td>6</td>\n",
       "      <td>1</td>\n",
       "      <td>1081468800</td>\n",
       "      <td>Barry Farms</td>\n",
       "      <td>Great product great service, fast shipping. Ve...</td>\n",
       "      <td>great product great servic fast ship professio...</td>\n",
       "    </tr>\n",
       "    <tr>\n",
       "      <th>4</th>\n",
       "      <td>36851</td>\n",
       "      <td>40041</td>\n",
       "      <td>B0000DG4MO</td>\n",
       "      <td>A1R91I3D97CMYX</td>\n",
       "      <td>Exxxxx</td>\n",
       "      <td>3</td>\n",
       "      <td>3</td>\n",
       "      <td>1</td>\n",
       "      <td>1085356800</td>\n",
       "      <td>HOTHOTHOTHOTHOTHOTHOT</td>\n",
       "      <td>This hot sauce is no joke.  I've loved spicy f...</td>\n",
       "      <td>hot sauc joke ive love spici food sinc could w...</td>\n",
       "    </tr>\n",
       "  </tbody>\n",
       "</table>\n",
       "</div>"
      ],
      "text/plain": [
       "    index      Id   ProductId          UserId                     ProfileName  \\\n",
       "0  417839  451856  B00004CXX9   AIUWLEQ1ADEG5                Elizabeth Medina   \n",
       "1  138000  149768  B00004S1C5   A7P76IGRZZBFJ  E. Thompson \"Soooooper Genius\"   \n",
       "2  412716  446351  B0000YVCI0   A7V64BJ4FANV2                Emma R. Brashars   \n",
       "3  150402  163149  B00015UC8E  A20UAWANPNGCLY               E. Funk \"dfunke1\"   \n",
       "4   36851   40041  B0000DG4MO  A1R91I3D97CMYX                          Exxxxx   \n",
       "\n",
       "   HelpfulnessNumerator  HelpfulnessDenominator  Score        Time  \\\n",
       "0                     0                       0      1   944092800   \n",
       "1                    18                      18      1   975974400   \n",
       "2                     0                       0      1  1077494400   \n",
       "3                     5                       6      1  1081468800   \n",
       "4                     3                       3      1  1085356800   \n",
       "\n",
       "                 Summary                                               Text  \\\n",
       "0   Entertainingl Funny!  Beetlejuice is a well written movie ..... ever...   \n",
       "1      Who Needs Wilton?  I'm sick of scads of nasty toothpicks all over...   \n",
       "2  You HAVE to try these  If you haven't tried these you need to now!<p>...   \n",
       "3            Barry Farms  Great product great service, fast shipping. Ve...   \n",
       "4  HOTHOTHOTHOTHOTHOTHOT  This hot sauce is no joke.  I've loved spicy f...   \n",
       "\n",
       "                                         CleanedText  \n",
       "0  beetlejuic well written movi everyth excel act...  \n",
       "1  sick scad nasti toothpick counter tint concept...  \n",
       "2  havent tri need incred order least twice amoun...  \n",
       "3  great product great servic fast ship professio...  \n",
       "4  hot sauc joke ive love spici food sinc could w...  "
      ]
     },
     "execution_count": 102,
     "metadata": {},
     "output_type": "execute_result"
    }
   ],
   "source": [
    "final_train['Score'] = final_train['Score'].replace('positive',1)\n",
    "final_train['Score'] = final_train['Score'].replace('negative',0)\n",
    "final_test['Score'] = final_test['Score'].replace('positive',1)\n",
    "final_test['Score'] = final_test['Score'].replace('negative',0)\n",
    "final_train.head()"
   ]
  },
  {
   "cell_type": "code",
   "execution_count": 103,
   "metadata": {},
   "outputs": [
    {
     "name": "stdout",
     "output_type": "stream",
     "text": [
      "(11115, 12)\n",
      "(7780, 12)\n",
      "(3334, 12)\n"
     ]
    }
   ],
   "source": [
    "print(final.shape)\n",
    "print(final_train.shape)\n",
    "print(final_test.shape)"
   ]
  },
  {
   "cell_type": "markdown",
   "metadata": {},
   "source": [
    "# Bag of Words (BoW)"
   ]
  },
  {
   "cell_type": "code",
   "execution_count": 104,
   "metadata": {},
   "outputs": [
    {
     "name": "stdout",
     "output_type": "stream",
     "text": [
      "final_train_Y distribution: {0: 1092, 1: 6688}\n",
      "final_test_Y distribution: {0: 564, 1: 2770}\n",
      "So sampling required on the dataset as it has less number of negative datapoints\n"
     ]
    }
   ],
   "source": [
    "from sklearn.preprocessing import normalize\n",
    "count_vect = CountVectorizer() #in scikit-learn\n",
    "final_train_X = count_vect.fit_transform(final_train['CleanedText'].values)\n",
    "final_train_Y = final_train['Score'].values\n",
    "final_test_X =  count_vect.transform(final_test['CleanedText'].values)\n",
    "final_test_Y = final_test['Score'].values\n",
    "\n",
    "final_train_X = normalize(final_train_X, norm='l1', axis=0)\n",
    "final_test_X = normalize(final_test_X, norm='l1', axis=0)\n",
    "\n",
    "unique, counts = np.unique(final_train_Y, return_counts=True)\n",
    "print(\"final_train_Y distribution: %s\" % dict(zip(unique, counts)))\n",
    "unique, counts = np.unique(final_test_Y, return_counts=True)\n",
    "print(\"final_test_Y distribution: %s\" % dict(zip(unique, counts)))\n",
    "print(\"So sampling required on the dataset as it has less number of negative datapoints\")"
   ]
  },
  {
   "cell_type": "code",
   "execution_count": 98,
   "metadata": {},
   "outputs": [],
   "source": [
    "# ============================== loading libraries ===========================================\n",
    "import numpy as np\n",
    "import pandas as pd\n",
    "import matplotlib.pyplot as plt\n",
    "from sklearn.cross_validation import train_test_split\n",
    "from sklearn.neighbors import KNeighborsClassifier\n",
    "from sklearn.metrics import accuracy_score\n",
    "from sklearn.cross_validation import cross_val_score\n",
    "from collections import Counter\n",
    "from sklearn.metrics import accuracy_score\n",
    "from sklearn import cross_validation\n",
    "# ============================================================================================="
   ]
  },
  {
   "cell_type": "code",
   "execution_count": 105,
   "metadata": {
    "scrolled": false
   },
   "outputs": [
    {
     "name": "stdout",
     "output_type": "stream",
     "text": [
      "\n",
      "The optimal number of neighbors is 9.\n"
     ]
    },
    {
     "data": {
      "image/png": "[encoded data removed]",
      "text/plain": [
       "<matplotlib.figure.Figure at 0x1aa309be4a8>"
      ]
     },
     "metadata": {},
     "output_type": "display_data"
    },
    {
     "name": "stdout",
     "output_type": "stream",
     "text": [
      "the misclassification error for each k value is :  [0.178 0.146 0.142 0.14  0.14  0.14  0.14  0.14  0.14  0.14  0.14  0.14\n",
      " 0.14  0.14  0.14  0.14  0.14  0.14  0.14  0.14  0.14  0.14  0.14  0.14\n",
      " 0.14 ]\n"
     ]
    }
   ],
   "source": [
    "# creating odd list of K for KNN\n",
    "myList = list(range(0,50))\n",
    "neighbors = list(filter(lambda x: x % 2 != 0, myList))\n",
    "\n",
    "# split the data set into train and test\n",
    "X_1, X_test, y_1, y_test = cross_validation.train_test_split(final_train_X, final_train_Y, test_size=0.3, random_state=42)\n",
    "\n",
    "\n",
    "# empty list that will hold cv scores\n",
    "cv_scores = []\n",
    "\n",
    "# perform 10-fold cross validation\n",
    "for k in neighbors:\n",
    "    knn = KNeighborsClassifier(n_neighbors=k)\n",
    "    knn.fit(X_1,y_1)\n",
    "    scores = cross_val_score(knn, X_1, y_1, cv=10, scoring='accuracy')\n",
    "    cv_scores.append(scores.mean())\n",
    "\n",
    "# changing to misclassification error\n",
    "MSE = [1 - x for x in cv_scores]\n",
    "\n",
    "# determining best k\n",
    "optimal_k = neighbors[MSE.index(min(MSE))]\n",
    "print('\\nThe optimal number of neighbors is %d.' % optimal_k)\n",
    "\n",
    "# plot misclassification error vs k \n",
    "plt.plot(neighbors, MSE)\n",
    "\n",
    "for xy in zip(neighbors, np.round(MSE,3)):\n",
    "    plt.annotate('(%s, %s)' % xy, xy=xy, textcoords='data')\n",
    "\n",
    "plt.xlabel('Number of Neighbors K')\n",
    "plt.ylabel('Misclassification Error')\n",
    "plt.show()\n",
    "\n",
    "print(\"the misclassification error for each k value is : \", np.round(MSE,3))"
   ]
  },
  {
   "cell_type": "code",
   "execution_count": 25,
   "metadata": {},
   "outputs": [
    {
     "name": "stdout",
     "output_type": "stream",
     "text": [
      "[0.8217074541531504, 0.8543882964265451, 0.8575095911688599, 0.8597141231227848, 0.8598982839430761, 0.8595313114660119, 0.8597144616491622, 0.8597144616491622, 0.8597144616491622, 0.8597144616491622, 0.8597144616491622, 0.8597144616491622, 0.8597144616491622, 0.8597144616491622, 0.8597144616491622, 0.8597144616491622, 0.8597144616491622, 0.8597144616491622, 0.8597144616491622, 0.8597144616491622, 0.8597144616491622, 0.8597144616491622, 0.8597144616491622, 0.8597144616491622, 0.8597144616491622]\n"
     ]
    }
   ],
   "source": [
    "print(cv_scores)"
   ]
  },
  {
   "cell_type": "code",
   "execution_count": 28,
   "metadata": {},
   "outputs": [
    {
     "name": "stdout",
     "output_type": "stream",
     "text": [
      "\n",
      "The accuracy of the knn classifier for k = 9 is 83.503299%\n",
      "Confusion matrix is:\n"
     ]
    },
    {
     "data": {
      "text/plain": [
       "array([[  18,  546],\n",
       "       [   4, 2766]], dtype=int64)"
      ]
     },
     "execution_count": 28,
     "metadata": {},
     "output_type": "execute_result"
    }
   ],
   "source": [
    "# ============================== KNN with k = optimal_k ===============================================\n",
    "from sklearn.metrics import confusion_matrix\n",
    "# instantiate learning model k = optimal_k\n",
    "knn_optimal = KNeighborsClassifier(n_neighbors=optimal_k)\n",
    "\n",
    "# fitting the model\n",
    "knn_optimal.fit(final_train_X, final_train_Y)\n",
    "\n",
    "\n",
    "# predict the response\n",
    "pred = knn_optimal.predict(final_test_X)\n",
    "\n",
    "# evaluate accuracy\n",
    "acc = accuracy_score(final_test_Y, pred) * 100\n",
    "print('\\nThe accuracy of the knn classifier for k = %d is %f%%' % (optimal_k, acc))\n",
    "print(\"Confusion matrix is:\")\n",
    "confusion_matrix(final_test_Y, pred, labels=None, sample_weight=None)"
   ]
  },
  {
   "cell_type": "markdown",
   "metadata": {},
   "source": [
    "Observation: We found that K=9 is the optimal value. And accuracy on the test dataset is 83.503299%"
   ]
  },
  {
   "cell_type": "markdown",
   "metadata": {},
   "source": [
    "# TF-IDF"
   ]
  },
  {
   "cell_type": "code",
   "execution_count": 36,
   "metadata": {},
   "outputs": [
    {
     "name": "stdout",
     "output_type": "stream",
     "text": [
      "final_train_Y distribution: {0: 1092, 1: 6688}\n",
      "final_test_Y distribution: {0: 564, 1: 2770}\n",
      "So sampling required on the dataset as it has less number of negative datapoints\n"
     ]
    }
   ],
   "source": [
    "from sklearn.preprocessing import normalize\n",
    "tf_idf_vect = TfidfVectorizer()\n",
    "final_train_X = tf_idf_vect.fit_transform(final_train['CleanedText'].values)\n",
    "final_train_Y = final_train['Score'].values\n",
    "final_test_X =  tf_idf_vect.transform(final_test['CleanedText'].values)\n",
    "final_test_Y = final_test['Score'].values\n",
    "final_train_X = normalize(final_train_X, norm='l1', axis=0)\n",
    "final_test_X = normalize(final_test_X, norm='l1', axis=0)\n",
    "\n",
    "unique, counts = np.unique(final_train_Y, return_counts=True)\n",
    "print(\"final_train_Y distribution: %s\" % dict(zip(unique, counts)))\n",
    "unique, counts = np.unique(final_test_Y, return_counts=True)\n",
    "print(\"final_test_Y distribution: %s\" % dict(zip(unique, counts)))\n",
    "print(\"So sampling required on the dataset as it has less number of negative datapoints\")"
   ]
  },
  {
   "cell_type": "code",
   "execution_count": 89,
   "metadata": {},
   "outputs": [
    {
     "name": "stdout",
     "output_type": "stream",
     "text": [
      "(11115, 13630)\n",
      "(7780, 11656)\n"
     ]
    }
   ],
   "source": [
    "print(final_tf_idf.get_shape())\n",
    "print(final_train_X.get_shape())"
   ]
  },
  {
   "cell_type": "code",
   "execution_count": 38,
   "metadata": {},
   "outputs": [
    {
     "data": {
      "text/plain": [
       "['airbrush',\n",
       " 'airfar',\n",
       " 'airhead',\n",
       " 'airi',\n",
       " 'airlin',\n",
       " 'airplan',\n",
       " 'airport',\n",
       " 'airtight',\n",
       " 'aisl',\n",
       " 'aju']"
      ]
     },
     "execution_count": 38,
     "metadata": {},
     "output_type": "execute_result"
    }
   ],
   "source": [
    "features = tf_idf_vect.get_feature_names()\n",
    "len(features)\n",
    "features[200:210]"
   ]
  },
  {
   "cell_type": "code",
   "execution_count": 34,
   "metadata": {},
   "outputs": [],
   "source": [
    "# source: https://buhrmann.github.io/tfidf-analysis.html\n",
    "def top_tfidf_feats(row, features, top_n=25):\n",
    "    ''' Get top n tfidf values in row and return them with their corresponding feature names.'''\n",
    "    topn_ids = np.argsort(row)[::-1][:top_n]\n",
    "    top_feats = [(features[i], row[i]) for i in topn_ids]\n",
    "    df = pd.DataFrame(top_feats)\n",
    "    df.columns = ['feature', 'tfidf']\n",
    "    return df\n",
    "\n",
    "top_tfidf = top_tfidf_feats(final_tf_idf[1,:].toarray()[0],features,25)"
   ]
  },
  {
   "cell_type": "code",
   "execution_count": 39,
   "metadata": {},
   "outputs": [
    {
     "name": "stdout",
     "output_type": "stream",
     "text": [
      "\n",
      "The optimal number of neighbors is 7.\n"
     ]
    },
    {
     "data": {
      "image/png": "[encoded data removed]",
      "text/plain": [
       "<matplotlib.figure.Figure at 0x1aa4f049cf8>"
      ]
     },
     "metadata": {},
     "output_type": "display_data"
    },
    {
     "name": "stdout",
     "output_type": "stream",
     "text": [
      "the misclassification error for each k value is :  [0.162 0.141 0.14  0.14  0.14  0.14  0.14  0.14  0.14  0.14  0.14  0.14\n",
      " 0.14  0.14  0.14  0.14  0.14  0.14  0.14  0.14  0.14  0.14  0.14  0.14\n",
      " 0.14 ]\n"
     ]
    }
   ],
   "source": [
    "# creating odd list of K for KNN\n",
    "myList = list(range(0,50))\n",
    "neighbors = list(filter(lambda x: x % 2 != 0, myList))\n",
    "\n",
    "# split the data set into train and test\n",
    "X_1, X_test, y_1, y_test = cross_validation.train_test_split(final_train_X, final_train_Y, test_size=0.3, random_state=42)\n",
    "\n",
    "\n",
    "# empty list that will hold cv scores\n",
    "cv_scores = []\n",
    "\n",
    "# perform 10-fold cross validation\n",
    "for k in neighbors:\n",
    "    knn = KNeighborsClassifier(n_neighbors=k)\n",
    "    knn.fit(X_1, y_1)\n",
    "    scores = cross_val_score(knn, X_1, y_1, cv=10, scoring='accuracy')\n",
    "    cv_scores.append(scores.mean())\n",
    "\n",
    "# changing to misclassification error\n",
    "MSE = [1 - x for x in cv_scores]\n",
    "\n",
    "# determining best k\n",
    "optimal_k = neighbors[MSE.index(min(MSE))]\n",
    "print('\\nThe optimal number of neighbors is %d.' % optimal_k)\n",
    "\n",
    "# plot misclassification error vs k \n",
    "plt.plot(neighbors, MSE)\n",
    "\n",
    "for xy in zip(neighbors, np.round(MSE,3)):\n",
    "    plt.annotate('(%s, %s)' % xy, xy=xy, textcoords='data')\n",
    "\n",
    "plt.xlabel('Number of Neighbors K')\n",
    "plt.ylabel('Misclassification Error')\n",
    "plt.show()\n",
    "\n",
    "print(\"the misclassification error for each k value is : \", np.round(MSE,3))"
   ]
  },
  {
   "cell_type": "code",
   "execution_count": 40,
   "metadata": {},
   "outputs": [
    {
     "name": "stdout",
     "output_type": "stream",
     "text": [
      "[0.8378603502092441, 0.8589774860191077, 0.8597137883029007, 0.8597144616491622, 0.8597144616491622, 0.8597144616491622, 0.8597144616491622, 0.8597144616491622, 0.8597144616491622, 0.8597144616491622, 0.8597144616491622, 0.8597144616491622, 0.8597144616491622, 0.8597144616491622, 0.8597144616491622, 0.8597144616491622, 0.8597144616491622, 0.8597144616491622, 0.8597144616491622, 0.8597144616491622, 0.8597144616491622, 0.8597144616491622, 0.8597144616491622, 0.8597144616491622, 0.8597144616491622]\n"
     ]
    }
   ],
   "source": [
    "print(cv_scores)"
   ]
  },
  {
   "cell_type": "code",
   "execution_count": 41,
   "metadata": {},
   "outputs": [
    {
     "name": "stdout",
     "output_type": "stream",
     "text": [
      "\n",
      "The accuracy of the knn classifier for k = 7 is 83.503299%\n",
      "Confusion matrix is:\n"
     ]
    },
    {
     "data": {
      "text/plain": [
       "array([[  24,  540],\n",
       "       [  10, 2760]], dtype=int64)"
      ]
     },
     "execution_count": 41,
     "metadata": {},
     "output_type": "execute_result"
    }
   ],
   "source": [
    "# ============================== KNN with k = optimal_k ===============================================\n",
    "# instantiate learning model k = optimal_k\n",
    "knn_optimal = KNeighborsClassifier(n_neighbors=optimal_k)\n",
    "\n",
    "# fitting the model\n",
    "knn_optimal.fit(final_train_X, final_train_Y)\n",
    "\n",
    "# predict the response\n",
    "pred = knn_optimal.predict(final_test_X)\n",
    "\n",
    "# evaluate accuracy\n",
    "acc = accuracy_score(final_test_Y, pred) * 100\n",
    "print('\\nThe accuracy of the knn classifier for k = %d is %f%%' % (optimal_k, acc))\n",
    "print(\"Confusion matrix is:\")\n",
    "confusion_matrix(final_test_Y, pred, labels=None, sample_weight=None)"
   ]
  },
  {
   "cell_type": "markdown",
   "metadata": {},
   "source": [
    "Observation: We found that K=7 is the optimal value. And accuracy on the test dataset is 83.503299%"
   ]
  },
  {
   "cell_type": "markdown",
   "metadata": {},
   "source": [
    "#  Word2Vec"
   ]
  },
  {
   "cell_type": "code",
   "execution_count": 42,
   "metadata": {},
   "outputs": [
    {
     "name": "stderr",
     "output_type": "stream",
     "text": [
      "C:\\Users\\Swapnanil\\Anaconda3\\lib\\site-packages\\gensim\\utils.py:1197: UserWarning: detected Windows; aliasing chunkize to chunkize_serial\n",
      "  warnings.warn(\"detected Windows; aliasing chunkize to chunkize_serial\")\n"
     ]
    }
   ],
   "source": [
    "# Using Google News Word2Vectors\n",
    "import gensim\n",
    "from gensim.models import Word2Vec\n",
    "from gensim.models import KeyedVectors\n",
    "import pickle\n",
    "\n",
    "# in this project we are using a pretrained model by google\n",
    "# its 3.3G file, once you load this into your memory \n",
    "# it occupies ~9Gb, so please do this step only if you have >12G of ram\n",
    "# we will provide a pickle file wich contains a dict , \n",
    "# and it contains all our courpus words as keys and  model[word] as values\n",
    "# To use this code-snippet, download \"GoogleNews-vectors-negative300.bin\" \n",
    "# from https://drive.google.com/file/d/0B7XkCwpI5KDYNlNUTTlSS21pQmM/edit\n",
    "# it's 1.9GB in size.\n",
    "\n",
    "\n",
    "model = KeyedVectors.load_word2vec_format('amazon-fine-food-reviews/GoogleNews-vectors-negative300.bin', binary=True)\n",
    "\n",
    "def cleanhtml(sentence): #function to clean the word of any html-tags\n",
    "    cleanr = re.compile('<.*?>')\n",
    "    cleantext = re.sub(cleanr, ' ', sentence)\n",
    "    return cleantext\n",
    "def cleanpunc(sentence): #function to clean the word of any punctuation or special characters\n",
    "    cleaned = re.sub(r'[?|!|\\'|\"|#]',r'',sentence)\n",
    "    cleaned = re.sub(r'[.|,|)|(|\\|/]',r' ',cleaned)\n",
    "    return  cleaned\n",
    "\n"
   ]
  },
  {
   "cell_type": "code",
   "execution_count": 52,
   "metadata": {},
   "outputs": [],
   "source": [
    "# Train your own Word2Vec model using your own text corpus\n",
    "import gensim\n",
    "import re\n",
    "i=0\n",
    "list_of_sent=[]\n",
    "for sent in final_train['CleanedText'].values:\n",
    "    filtered_sentence=[]\n",
    "    sent=cleanhtml(sent)\n",
    "    for w in sent.split():\n",
    "        for cleaned_words in cleanpunc(w).split():\n",
    "            if(cleaned_words.isalpha()):    \n",
    "                filtered_sentence.append(cleaned_words.lower())\n",
    "            else:\n",
    "                continue \n",
    "    list_of_sent.append(filtered_sentence)\n",
    "    "
   ]
  },
  {
   "cell_type": "code",
   "execution_count": 53,
   "metadata": {},
   "outputs": [
    {
     "name": "stdout",
     "output_type": "stream",
     "text": [
      "Word2Vec(vocab=4029, size=50, alpha=0.025)\n"
     ]
    }
   ],
   "source": [
    "w2v_model=gensim.models.Word2Vec(list_of_sent,min_count=5,size=50, workers=4)    \n",
    "print(w2v_model)"
   ]
  },
  {
   "cell_type": "markdown",
   "metadata": {},
   "source": [
    "#  Avg W2V, TFIDF-W2V"
   ]
  },
  {
   "cell_type": "code",
   "execution_count": 54,
   "metadata": {},
   "outputs": [
    {
     "name": "stdout",
     "output_type": "stream",
     "text": [
      "7780\n",
      "50\n"
     ]
    }
   ],
   "source": [
    "# average Word2Vec\n",
    "# compute average word2vec for each review.\n",
    "sent_vectors = []; # the avg-w2v for each sentence/review is stored in this list\n",
    "for sent in list_of_sent: # for each review/sentence\n",
    "    sent_vec = np.zeros(50) # as word vectors are of zero length\n",
    "    cnt_words =0; # num of words with a valid vector in the sentence/review\n",
    "    for word in sent: # for each word in a review/sentence\n",
    "        try:\n",
    "            vec = w2v_model.wv[word]\n",
    "            sent_vec += vec\n",
    "            cnt_words += 1\n",
    "        except:\n",
    "            pass\n",
    "    sent_vec /= cnt_words\n",
    "    sent_vectors.append(sent_vec)\n",
    "print(len(sent_vectors))\n",
    "print(len(sent_vectors[0]))\n",
    "#print(sent_vectors[0])"
   ]
  },
  {
   "cell_type": "code",
   "execution_count": 55,
   "metadata": {},
   "outputs": [
    {
     "name": "stdout",
     "output_type": "stream",
     "text": [
      "\n",
      "The optimal number of neighbors is 19.\n"
     ]
    },
    {
     "data": {
      "image/png": "[encoded data removed]",
      "text/plain": [
       "<matplotlib.figure.Figure at 0x1ab45b83278>"
      ]
     },
     "metadata": {},
     "output_type": "display_data"
    },
    {
     "name": "stdout",
     "output_type": "stream",
     "text": [
      "the misclassification error for each k value is :  [0.212 0.167 0.152 0.146 0.142 0.141 0.14  0.139 0.14  0.138 0.138 0.139\n",
      " 0.139 0.139 0.139 0.139 0.139 0.139 0.139 0.139 0.139 0.138 0.139 0.139\n",
      " 0.139]\n"
     ]
    }
   ],
   "source": [
    "# creating odd list of K for KNN\n",
    "myList = list(range(0,50))\n",
    "neighbors = list(filter(lambda x: x % 2 != 0, myList))\n",
    "\n",
    "# split the data set into train and test\n",
    "X_1, X_test, y_1, y_test = cross_validation.train_test_split(sent_vectors, final_train_Y, test_size=0.3, random_state=42)\n",
    "\n",
    "\n",
    "# empty list that will hold cv scores\n",
    "cv_scores = []\n",
    "\n",
    "# perform 10-fold cross validation\n",
    "for k in neighbors:\n",
    "    knn = KNeighborsClassifier(n_neighbors=k)\n",
    "    scores = cross_val_score(knn, X_1, y_1, cv=10, scoring='accuracy')\n",
    "    cv_scores.append(scores.mean())\n",
    "\n",
    "# changing to misclassification error\n",
    "MSE = [1 - x for x in cv_scores]\n",
    "\n",
    "# determining best k\n",
    "optimal_k = neighbors[MSE.index(min(MSE))]\n",
    "print('\\nThe optimal number of neighbors is %d.' % optimal_k)\n",
    "\n",
    "# plot misclassification error vs k \n",
    "plt.plot(neighbors, MSE)\n",
    "\n",
    "for xy in zip(neighbors, np.round(MSE,3)):\n",
    "    plt.annotate('(%s, %s)' % xy, xy=xy, textcoords='data')\n",
    "\n",
    "plt.xlabel('Number of Neighbors K')\n",
    "plt.ylabel('Misclassification Error')\n",
    "plt.show()\n",
    "\n",
    "print(\"the misclassification error for each k value is : \", np.round(MSE,3))"
   ]
  },
  {
   "cell_type": "code",
   "execution_count": 56,
   "metadata": {},
   "outputs": [
    {
     "name": "stdout",
     "output_type": "stream",
     "text": [
      "[0.7877361493291742, 0.8329132739899066, 0.8476050123648612, 0.8536614185194191, 0.8582495937683472, 0.8586165699519045, 0.8597174910895904, 0.8606372820829108, 0.8604521118609758, 0.861553031763164, 0.8615520223615205, 0.86100257181207, 0.8606345874623667, 0.8606359353903876, 0.8608190843380401, 0.8610029078674518, 0.8606362714457696, 0.8611867313968636, 0.86100257181207, 0.860635262044126, 0.8613698828155115, 0.861553031763164, 0.8611857219952201, 0.8611857219952201, 0.8610018984658083]\n"
     ]
    }
   ],
   "source": [
    "print(cv_scores)"
   ]
  },
  {
   "cell_type": "code",
   "execution_count": 58,
   "metadata": {},
   "outputs": [
    {
     "name": "stdout",
     "output_type": "stream",
     "text": [
      "\n",
      "The accuracy of the knn classifier for k = 19 is 83.083383%\n",
      "Confusion matrix is:\n"
     ]
    },
    {
     "data": {
      "text/plain": [
       "array([[   0,  564],\n",
       "       [   0, 2770]], dtype=int64)"
      ]
     },
     "execution_count": 58,
     "metadata": {},
     "output_type": "execute_result"
    }
   ],
   "source": [
    "# ============================== KNN with k = optimal_k ===============================================\n",
    "# instantiate learning model k = optimal_k\n",
    "knn_optimal = KNeighborsClassifier(n_neighbors=optimal_k)\n",
    "\n",
    "# fitting the model\n",
    "knn_optimal.fit(final_train_X, final_train_Y)\n",
    "\n",
    "# predict the response\n",
    "pred = knn_optimal.predict(final_test_X)\n",
    "\n",
    "# evaluate accuracy\n",
    "acc = accuracy_score(final_test_Y, pred) * 100\n",
    "print('\\nThe accuracy of the knn classifier for k = %d is %f%%' % (optimal_k, acc))\n",
    "print(\"Confusion matrix is:\")\n",
    "confusion_matrix(final_test_Y, pred, labels=None, sample_weight=None)"
   ]
  },
  {
   "cell_type": "code",
   "execution_count": 84,
   "metadata": {},
   "outputs": [
    {
     "name": "stdout",
     "output_type": "stream",
     "text": [
      "11656\n",
      "(7780, 11656)\n",
      "['sick', 'scad', 'nasti', 'toothpick', 'counter', 'tint', 'concept', 'one', 'long', 'overdu', 'except', 'welcom', 'color', 'vibrant', 'offens', 'tast', 'blend', 'opinion', 'smooth', 'wilton', 'past', 'youll', 'need', 'experi', 'bit', 'get', 'hue', 'right', 'first', 'well', 'worth']\n"
     ]
    }
   ],
   "source": [
    "print(len(tf_idf_vect.get_feature_names()))\n",
    "print(final_train_X.shape)\n",
    "print(list_of_sent[1])"
   ]
  },
  {
   "cell_type": "markdown",
   "metadata": {},
   "source": [
    "Observation: We found that K=19 is the optimal value. And accuracy on the test dataset is 83.083383%"
   ]
  },
  {
   "cell_type": "code",
   "execution_count": 88,
   "metadata": {},
   "outputs": [],
   "source": [
    "# TF-IDF weighted Word2Vec\n",
    "tfidf_feat = tf_idf_vect.get_feature_names() # tfidf words/col-names\n",
    "# final_tf_idf is the sparse matrix with row= sentence, col=word and cell_val = tfidf\n",
    "\n",
    "tfidf_sent_vectors = []; # the tfidf-w2v for each sentence/review is stored in this list\n",
    "row=0;\n",
    "for sent in list_of_sent: # for each review/sentence\n",
    "    sent_vec = np.zeros(50) # as word vectors are of zero length\n",
    "    weight_sum = 0; # num of words with a valid vector in the sentence/review\n",
    "    for word in sent: # for each word in a review/sentence\n",
    "        try:\n",
    "            vec = w2v_model.wv[word]\n",
    "            # obtain the tf_idfidf of a word in a sentence/review\n",
    "            tf_idf = final_train_X[row, tfidf_feat.index(word)]\n",
    "            sent_vec += (vec * tf_idf)\n",
    "            weight_sum += tf_idf\n",
    "        except:\n",
    "            pass\n",
    "    sent_vec /= weight_sum\n",
    "    tfidf_sent_vectors.append(sent_vec)\n",
    "    row += 1"
   ]
  },
  {
   "cell_type": "code",
   "execution_count": 91,
   "metadata": {},
   "outputs": [
    {
     "name": "stdout",
     "output_type": "stream",
     "text": [
      "\n",
      "The optimal number of neighbors is 19.\n"
     ]
    },
    {
     "data": {
      "image/png": "[encoded data removed]",
      "text/plain": [
       "<matplotlib.figure.Figure at 0x1ab45da42b0>"
      ]
     },
     "metadata": {},
     "output_type": "display_data"
    },
    {
     "name": "stdout",
     "output_type": "stream",
     "text": [
      "the misclassification error for each k value is :  [0.225 0.176 0.157 0.151 0.147 0.144 0.142 0.14  0.14  0.14  0.14  0.14\n",
      " 0.141 0.141 0.14  0.14  0.14  0.14  0.14  0.14  0.141 0.14  0.141 0.14\n",
      " 0.14 ]\n"
     ]
    }
   ],
   "source": [
    "# creating odd list of K for KNN\n",
    "myList = list(range(0,50))\n",
    "neighbors = list(filter(lambda x: x % 2 != 0, myList))\n",
    "\n",
    "# split the data set into train and test\n",
    "X_1, X_test, y_1, y_test = cross_validation.train_test_split(tfidf_sent_vectors, final_train_Y, test_size=0.3, random_state=42)\n",
    "\n",
    "\n",
    "# empty list that will hold cv scores\n",
    "cv_scores = []\n",
    "\n",
    "# perform 10-fold cross validation\n",
    "for k in neighbors:\n",
    "    knn = KNeighborsClassifier(n_neighbors=k)\n",
    "    scores = cross_val_score(knn, X_1, y_1, cv=10, scoring='accuracy')\n",
    "    cv_scores.append(scores.mean())\n",
    "\n",
    "# changing to misclassification error\n",
    "MSE = [1 - x for x in cv_scores]\n",
    "\n",
    "# determining best k\n",
    "optimal_k = neighbors[MSE.index(min(MSE))]\n",
    "print('\\nThe optimal number of neighbors is %d.' % optimal_k)\n",
    "\n",
    "# plot misclassification error vs k \n",
    "plt.plot(neighbors, MSE)\n",
    "\n",
    "for xy in zip(neighbors, np.round(MSE,3)):\n",
    "    plt.annotate('(%s, %s)' % xy, xy=xy, textcoords='data')\n",
    "\n",
    "plt.xlabel('Number of Neighbors K')\n",
    "plt.ylabel('Misclassification Error')\n",
    "plt.show()\n",
    "\n",
    "print(\"the misclassification error for each k value is : \", np.round(MSE,3))"
   ]
  },
  {
   "cell_type": "code",
   "execution_count": 92,
   "metadata": {},
   "outputs": [
    {
     "name": "stdout",
     "output_type": "stream",
     "text": [
      "[0.7752573615896605, 0.8237247983173509, 0.8433774109502657, 0.8494351675038398, 0.8529210736870614, 0.8564090023800628, 0.8584283690540435, 0.8602662670572816, 0.8597164804524491, 0.860450427877573, 0.8595319848122734, 0.8595309741751322, 0.8593471494102228, 0.8593471494102228, 0.8597137870674029, 0.8602649203647583, 0.8595309741751322, 0.8595316475213938, 0.8595313114660119, 0.8597144616491622, 0.8593474879366003, 0.8595306381197503, 0.8593474879366003, 0.8595313114660119, 0.8597144616491622]\n"
     ]
    }
   ],
   "source": [
    "print(cv_scores)"
   ]
  },
  {
   "cell_type": "code",
   "execution_count": 93,
   "metadata": {},
   "outputs": [
    {
     "name": "stdout",
     "output_type": "stream",
     "text": [
      "\n",
      "The accuracy of the knn classifier for k = 19 is 83.083383%\n",
      "Confusion matrix is:\n"
     ]
    },
    {
     "data": {
      "text/plain": [
       "array([[   0,  564],\n",
       "       [   0, 2770]], dtype=int64)"
      ]
     },
     "execution_count": 93,
     "metadata": {},
     "output_type": "execute_result"
    }
   ],
   "source": [
    "# ============================== KNN with k = optimal_k ===============================================\n",
    "# instantiate learning model k = optimal_k\n",
    "knn_optimal = KNeighborsClassifier(n_neighbors=optimal_k)\n",
    "\n",
    "# fitting the model\n",
    "knn_optimal.fit(final_train_X, final_train_Y)\n",
    "\n",
    "# predict the response\n",
    "pred = knn_optimal.predict(final_test_X)\n",
    "\n",
    "# evaluate accuracy\n",
    "acc = accuracy_score(final_test_Y, pred) * 100\n",
    "print('\\nThe accuracy of the knn classifier for k = %d is %f%%' % (optimal_k, acc))\n",
    "print(\"Confusion matrix is:\")\n",
    "confusion_matrix(final_test_Y, pred, labels=None, sample_weight=None)"
   ]
  },
  {
   "cell_type": "markdown",
   "metadata": {},
   "source": [
    "Observation: We found that K=19 is the optimal value. And accuracy on the test dataset is 83.083383%"
   ]
  },
  {
   "cell_type": "code",
   "execution_count": null,
   "metadata": {},
   "outputs": [],
   "source": []
  }
 ],
 "metadata": {
  "kernelspec": {
   "display_name": "Python 3",
   "language": "python",
   "name": "python3"
  },
  "language_info": {
   "codemirror_mode": {
    "name": "ipython",
    "version": 3
   },
   "file_extension": ".py",
   "mimetype": "text/x-python",
   "name": "python",
   "nbconvert_exporter": "python",
   "pygments_lexer": "ipython3",
   "version": "3.6.4"
  }
 },
 "nbformat": 4,
 "nbformat_minor": 2
}
